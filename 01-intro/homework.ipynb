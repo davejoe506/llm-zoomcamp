{
 "cells": [
  {
   "cell_type": "code",
   "execution_count": 1,
   "id": "2866c3cb-1be6-4fdd-8f94-d95f3a0dfb9e",
   "metadata": {},
   "outputs": [],
   "source": [
    "from openai import OpenAI"
   ]
  },
  {
   "cell_type": "code",
   "execution_count": 2,
   "id": "0c063d72-54b1-4875-8c0b-329576683c7f",
   "metadata": {},
   "outputs": [],
   "source": [
    "client = OpenAI(\n",
    "    base_url = 'http://localhost:11434/v1/',\n",
    "    api_key = 'ollama',\n",
    ")"
   ]
  },
  {
   "cell_type": "code",
   "execution_count": 3,
   "id": "dd1eac3a-98ad-436b-ab40-fbc2d06a41f6",
   "metadata": {},
   "outputs": [],
   "source": [
    "response = client.chat.completions.create(\n",
    "    model=\"phi3\",\n",
    "    messages=[{\"role\":\"user\", \"content\":\"Is it too late to join the course?\"}]\n",
    ")"
   ]
  },
  {
   "cell_type": "code",
   "execution_count": 5,
   "id": "175ab660-fbe4-4765-9e87-df0ae7356d48",
   "metadata": {},
   "outputs": [
    {
     "name": "stdout",
     "output_type": "stream",
     "text": [
      " Whether or not it's \"too late\" to join a course depends on several factors:\n",
      "\n",
      "1. Course Policy: Check the enrollment policies of the specific course you are interested in. Some courses may have open registration periods, while others might close after set dates or at certain levels of prerequisite completion (e.g., only accepting students who have completed a particular foundational class).\n",
      "\n",
      "2. Course Availability: Certain online courses and distance-learning programs are often available throughout the year without strict enrollment periods, while some in-person classes may follow traditional academic terms with defined start and end dates.\n",
      "\n",
      "3. Waitlist Position: If you're trying to join a class that has reached its maximum capacity, it is still possible to join by placing yourself on the waitlist provided by instructors or program coordinators. The likelihood of being accepted into an available spot will vary based on various factors, such as course demand and overall enrollment numbers.\n",
      "\n",
      "In summary, whether joining a particular course is too late depends heavily on its specific policies and availability. You should reach out directly to the instructor or program coordinator for accurate information regarding your desired course.\n"
     ]
    }
   ],
   "source": [
    "print(response.choices[0].message.content)"
   ]
  }
 ],
 "metadata": {
  "kernelspec": {
   "display_name": "Python 3 (ipykernel)",
   "language": "python",
   "name": "python3"
  },
  "language_info": {
   "codemirror_mode": {
    "name": "ipython",
    "version": 3
   },
   "file_extension": ".py",
   "mimetype": "text/x-python",
   "name": "python",
   "nbconvert_exporter": "python",
   "pygments_lexer": "ipython3",
   "version": "3.10.13"
  }
 },
 "nbformat": 4,
 "nbformat_minor": 5
}
